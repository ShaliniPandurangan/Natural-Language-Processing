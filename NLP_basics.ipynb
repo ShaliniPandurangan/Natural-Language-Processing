{
 "cells": [
  {
   "cell_type": "code",
   "execution_count": 3,
   "metadata": {
    "scrolled": true
   },
   "outputs": [],
   "source": [
    "#SHALINI PANDURANGAN\n",
    "import os\n",
    "import nltk\n",
    "import nltk.corpus"
   ]
  },
  {
   "cell_type": "code",
   "execution_count": 4,
   "metadata": {},
   "outputs": [
    {
     "name": "stdout",
     "output_type": "stream",
     "text": [
      "['unicode_samples', 'mte_teip5.zip', 'indian', 'stopwords', 'brown', 'swadesh', 'mac_morpho', 'conll2002.zip', 'indian.zip', 'abc', 'comparative_sentences', 'brown_tei.zip', 'cmudict.zip', 'conll2000.zip', 'universal_treebanks_v20.zip', 'words', 'pros_cons', 'udhr2', 'nonbreaking_prefixes.zip', 'lin_thesaurus', 'webtext', 'smultron.zip', 'names', 'sentiwordnet', 'dolch.zip', 'wordnet_ic.zip', 'brown.zip', 'alpino.zip', 'panlex_swadesh.zip', 'cmudict', 'sinica_treebank.zip', 'treebank.zip', 'ptb', 'inaugural', 'ppattach.zip', 'dependency_treebank.zip', 'opinion_lexicon.zip', 'cess_esp.zip', 'product_reviews_2', 'genesis.zip', 'reuters.zip', 'conll2007.zip', 'conll2002', 'comparative_sentences.zip', 'switchboard.zip', 'cess_cat.zip', 'udhr.zip', 'subjectivity.zip', 'pl196x.zip', 'ieer', 'problem_reports', 'timit.zip', 'floresta', 'paradigms.zip', 'gazetteers.zip', 'wordnet.zip', 'inaugural.zip', 'sinica_treebank', 'stopwords.zip', 'verbnet.zip', 'gutenberg', 'ieer.zip', 'ycoe.zip', 'shakespeare.zip', 'sentence_polarity', 'framenet_v17.zip', 'kimmo.zip', 'chat80.zip', 'kimmo', 'qc.zip', 'nonbreaking_prefixes', 'senseval', 'verbnet', 'udhr2.zip', 'senseval.zip', 'chat80', 'framenet_v15.zip', 'unicode_samples.zip', 'biocreative_ppi', 'framenet_v17', 'words.zip', 'pil', 'alpino', 'omw', 'cess_cat', 'shakespeare', 'city_database', 'product_reviews_2.zip', 'abc.zip', 'europarl_raw', 'sentiwordnet.zip', 'rte.zip', 'movie_reviews', 'toolbox.zip', 'product_reviews_1.zip', 'omw.zip', 'jeita.zip', 'wordnet_ic', 'names.zip', 'conll2000', 'dependency_treebank', 'floresta.zip', 'nombank.1.0.zip', 'wordnet', 'cess_esp', 'ptb.zip', 'mac_morpho.zip', 'knbc.zip', 'opinion_lexicon', 'toolbox', 'comtrans.zip', 'swadesh.zip', 'propbank.zip', 'mte_teip5', 'gutenberg.zip', 'product_reviews_1', 'twitter_samples.zip', 'treebank', 'state_union.zip', 'machado.zip', 'rte', 'nps_chat', 'crubadan', 'semcor.zip', 'biocreative_ppi.zip', 'ppattach', 'europarl_raw.zip', 'switchboard', 'brown_tei', 'verbnet3.zip', 'verbnet3', 'crubadan.zip', 'pil.zip', 'ycoe', 'webtext.zip', 'sentence_polarity.zip', 'timit', 'pl196x', 'nps_chat.zip', 'state_union', 'city_database.zip', 'subjectivity', 'framenet_v15', 'masc_tagged.zip', 'paradigms', 'genesis', 'gazetteers', 'twitter_samples', 'qc', 'lin_thesaurus.zip', 'udhr', 'movie_reviews.zip', 'dolch', 'problem_reports.zip', 'smultron', 'pros_cons.zip']\n"
     ]
    }
   ],
   "source": [
    "print(os.listdir(nltk.data.find(\"corpora\")))"
   ]
  },
  {
   "cell_type": "code",
   "execution_count": 5,
   "metadata": {},
   "outputs": [
    {
     "data": {
      "text/plain": [
       "['The', 'Fulton', 'County', 'Grand', 'Jury', 'said', ...]"
      ]
     },
     "execution_count": 5,
     "metadata": {},
     "output_type": "execute_result"
    }
   ],
   "source": [
    "from nltk.corpus import brown\n",
    "brown.words()"
   ]
  },
  {
   "cell_type": "code",
   "execution_count": 6,
   "metadata": {},
   "outputs": [
    {
     "data": {
      "text/plain": [
       "['austen-emma.txt',\n",
       " 'austen-persuasion.txt',\n",
       " 'austen-sense.txt',\n",
       " 'bible-kjv.txt',\n",
       " 'blake-poems.txt',\n",
       " 'bryant-stories.txt',\n",
       " 'burgess-busterbrown.txt',\n",
       " 'carroll-alice.txt',\n",
       " 'chesterton-ball.txt',\n",
       " 'chesterton-brown.txt',\n",
       " 'chesterton-thursday.txt',\n",
       " 'edgeworth-parents.txt',\n",
       " 'melville-moby_dick.txt',\n",
       " 'milton-paradise.txt',\n",
       " 'shakespeare-caesar.txt',\n",
       " 'shakespeare-hamlet.txt',\n",
       " 'shakespeare-macbeth.txt',\n",
       " 'whitman-leaves.txt']"
      ]
     },
     "execution_count": 6,
     "metadata": {},
     "output_type": "execute_result"
    }
   ],
   "source": [
    "nltk.corpus.gutenberg.fileids()"
   ]
  },
  {
   "cell_type": "code",
   "execution_count": 7,
   "metadata": {},
   "outputs": [
    {
     "data": {
      "text/plain": [
       "['[', 'The', 'Tragedie', 'of', 'Hamlet', 'by', ...]"
      ]
     },
     "execution_count": 7,
     "metadata": {},
     "output_type": "execute_result"
    }
   ],
   "source": [
    "hamlet = nltk.corpus.gutenberg.words('shakespeare-hamlet.txt')\n",
    "hamlet"
   ]
  },
  {
   "cell_type": "code",
   "execution_count": 8,
   "metadata": {
    "scrolled": true
   },
   "outputs": [
    {
     "name": "stdout",
     "output_type": "stream",
     "text": [
      "[ The Tragedie of Hamlet by William Shakespeare 1599 ] Actus Primus . Scoena Prima . Enter Barnardo and Francisco two Centinels . Barnardo . Who ' s there ? Fran . Nay answer me : Stand & vnfold your selfe Bar . Long liue the King Fran . Barnardo ? Bar . He Fran . You come most carefully vpon your houre Bar . ' Tis now strook twelue , get thee to bed Francisco Fran . For this releefe much thankes : ' Tis bitter cold , And I am sicke at heart Barn . Haue you had quiet Guard ? Fran . Not a Mouse stirring Barn . Well , goodnight . If you do meet Horatio and Marcellus , the Riuals of my Watch , bid them make hast . Enter Horatio and Marcellus . Fran . I thinke I heare them . Stand : who ' s there ? Hor . Friends to this ground Mar . And Leige - men to the Dane Fran . Giue you good night Mar . O farwel honest Soldier , who hath relieu ' d you ? Fra . Barnardo ha ' s my place : giue you goodnight . Exit Fran . Mar . Holla Barnardo Bar . Say , what is Horatio there ? Hor . A peece of him Bar . Welcome Horatio , welcome good Marcellus Mar . What , ha ' s this thing appear ' d againe to night Bar . I haue seene nothing Mar . Horatio saies , ' tis but our Fantasie , And will not let beleefe take hold of him Touching this dreaded sight , twice seene of vs , Therefore I haue intreated him along With vs , to watch the minutes of this Night , That if againe this Apparition come , He may approue our eyes , and speake to it Hor . Tush , tush , ' twill not appeare Bar . Sit downe a - while , And let vs once againe assaile your eares , That are so fortified against our Story , What we two Nights haue seene Hor . Well , sit we downe , And let vs heare Barnardo speake of this Barn . Last night of all , When yond same Starre that ' s Westward from the Pole Had made his course t ' illume that part of Heauen Where now it burnes , Marcellus and my selfe , The Bell then beating one Mar . Peace , breake thee of : Enter the Ghost . Looke where it comes againe Barn . In the same figure , like the King that ' s dead Mar . Thou art a Scholler ; speake to it Horatio Barn . Lookes it not like the King ? Marke it Horatio Hora . Most like : It harrowes me with fear & wonder Barn . It would be spoke too Mar . Question it Horatio Hor . What art "
     ]
    }
   ],
   "source": [
    "for word in hamlet[:500]:\n",
    "    print(word, sep = ' ',end = ' ')"
   ]
  },
  {
   "cell_type": "code",
   "execution_count": 9,
   "metadata": {},
   "outputs": [
    {
     "data": {
      "text/plain": [
       "nltk.corpus.reader.util.StreamBackedCorpusView"
      ]
     },
     "execution_count": 9,
     "metadata": {},
     "output_type": "execute_result"
    }
   ],
   "source": [
    "type(hamlet)"
   ]
  },
  {
   "cell_type": "code",
   "execution_count": 10,
   "metadata": {},
   "outputs": [],
   "source": [
    "Google = \"\"\" Google LLC is an American multinational technology company that specializes in Internet-related services and products, which include online advertising technologies, a search engine, cloud computing, software, and hardware. It is considered one of the Big Five technology companies in the U.S. information technology industry, alongside Amazon, Facebook, Apple, and Microsoft.[9][10][11] \n",
    "\n",
    "\n",
    "Google was founded in September 1998 by Larry Page and Sergey Brin while they were Ph.D. students at Stanford University in California. Together they own about 14 percent of its shares and control 56 percent of the stockholder voting power through supervoting stock. They incorporated Google as a California privately held company on September 4, 1998. Google was then reincorporated in Delaware on October 22, 2002.[12] An initial public offering (IPO) took place on August 19, 2004, and Google moved to its headquarters in Mountain View, California, nicknamed the Googleplex. In August 2015, Google announced plans to reorganize its various interests as a conglomerate called Alphabet Inc. Google is Alphabet's leading subsidiary and will continue to be the umbrella company for Alphabet's Internet interests. Sundar Pichai was appointed CEO of Google, replacing Larry Page, who became the CEO of Alphabet. In 2021, the Alphabet Workers Union was founded, mainly composed of Google employees.\"\"\""
   ]
  },
  {
   "cell_type": "code",
   "execution_count": 11,
   "metadata": {},
   "outputs": [
    {
     "data": {
      "text/plain": [
       "str"
      ]
     },
     "execution_count": 11,
     "metadata": {},
     "output_type": "execute_result"
    }
   ],
   "source": [
    "type(Google)"
   ]
  },
  {
   "cell_type": "code",
   "execution_count": 12,
   "metadata": {},
   "outputs": [],
   "source": [
    "from nltk.tokenize import word_tokenize"
   ]
  },
  {
   "cell_type": "code",
   "execution_count": 13,
   "metadata": {},
   "outputs": [
    {
     "data": {
      "text/plain": [
       "['Google',\n",
       " 'LLC',\n",
       " 'is',\n",
       " 'an',\n",
       " 'American',\n",
       " 'multinational',\n",
       " 'technology',\n",
       " 'company',\n",
       " 'that',\n",
       " 'specializes',\n",
       " 'in',\n",
       " 'Internet-related',\n",
       " 'services',\n",
       " 'and',\n",
       " 'products',\n",
       " ',',\n",
       " 'which',\n",
       " 'include',\n",
       " 'online',\n",
       " 'advertising',\n",
       " 'technologies',\n",
       " ',',\n",
       " 'a',\n",
       " 'search',\n",
       " 'engine',\n",
       " ',',\n",
       " 'cloud',\n",
       " 'computing',\n",
       " ',',\n",
       " 'software',\n",
       " ',',\n",
       " 'and',\n",
       " 'hardware',\n",
       " '.',\n",
       " 'It',\n",
       " 'is',\n",
       " 'considered',\n",
       " 'one',\n",
       " 'of',\n",
       " 'the',\n",
       " 'Big',\n",
       " 'Five',\n",
       " 'technology',\n",
       " 'companies',\n",
       " 'in',\n",
       " 'the',\n",
       " 'U.S.',\n",
       " 'information',\n",
       " 'technology',\n",
       " 'industry',\n",
       " ',',\n",
       " 'alongside',\n",
       " 'Amazon',\n",
       " ',',\n",
       " 'Facebook',\n",
       " ',',\n",
       " 'Apple',\n",
       " ',',\n",
       " 'and',\n",
       " 'Microsoft',\n",
       " '.',\n",
       " '[',\n",
       " '9',\n",
       " ']',\n",
       " '[',\n",
       " '10',\n",
       " ']',\n",
       " '[',\n",
       " '11',\n",
       " ']',\n",
       " 'Google',\n",
       " 'was',\n",
       " 'founded',\n",
       " 'in',\n",
       " 'September',\n",
       " '1998',\n",
       " 'by',\n",
       " 'Larry',\n",
       " 'Page',\n",
       " 'and',\n",
       " 'Sergey',\n",
       " 'Brin',\n",
       " 'while',\n",
       " 'they',\n",
       " 'were',\n",
       " 'Ph.D.',\n",
       " 'students',\n",
       " 'at',\n",
       " 'Stanford',\n",
       " 'University',\n",
       " 'in',\n",
       " 'California',\n",
       " '.',\n",
       " 'Together',\n",
       " 'they',\n",
       " 'own',\n",
       " 'about',\n",
       " '14',\n",
       " 'percent',\n",
       " 'of',\n",
       " 'its',\n",
       " 'shares',\n",
       " 'and',\n",
       " 'control',\n",
       " '56',\n",
       " 'percent',\n",
       " 'of',\n",
       " 'the',\n",
       " 'stockholder',\n",
       " 'voting',\n",
       " 'power',\n",
       " 'through',\n",
       " 'supervoting',\n",
       " 'stock',\n",
       " '.',\n",
       " 'They',\n",
       " 'incorporated',\n",
       " 'Google',\n",
       " 'as',\n",
       " 'a',\n",
       " 'California',\n",
       " 'privately',\n",
       " 'held',\n",
       " 'company',\n",
       " 'on',\n",
       " 'September',\n",
       " '4',\n",
       " ',',\n",
       " '1998',\n",
       " '.',\n",
       " 'Google',\n",
       " 'was',\n",
       " 'then',\n",
       " 'reincorporated',\n",
       " 'in',\n",
       " 'Delaware',\n",
       " 'on',\n",
       " 'October',\n",
       " '22',\n",
       " ',',\n",
       " '2002',\n",
       " '.',\n",
       " '[',\n",
       " '12',\n",
       " ']',\n",
       " 'An',\n",
       " 'initial',\n",
       " 'public',\n",
       " 'offering',\n",
       " '(',\n",
       " 'IPO',\n",
       " ')',\n",
       " 'took',\n",
       " 'place',\n",
       " 'on',\n",
       " 'August',\n",
       " '19',\n",
       " ',',\n",
       " '2004',\n",
       " ',',\n",
       " 'and',\n",
       " 'Google',\n",
       " 'moved',\n",
       " 'to',\n",
       " 'its',\n",
       " 'headquarters',\n",
       " 'in',\n",
       " 'Mountain',\n",
       " 'View',\n",
       " ',',\n",
       " 'California',\n",
       " ',',\n",
       " 'nicknamed',\n",
       " 'the',\n",
       " 'Googleplex',\n",
       " '.',\n",
       " 'In',\n",
       " 'August',\n",
       " '2015',\n",
       " ',',\n",
       " 'Google',\n",
       " 'announced',\n",
       " 'plans',\n",
       " 'to',\n",
       " 'reorganize',\n",
       " 'its',\n",
       " 'various',\n",
       " 'interests',\n",
       " 'as',\n",
       " 'a',\n",
       " 'conglomerate',\n",
       " 'called',\n",
       " 'Alphabet',\n",
       " 'Inc.',\n",
       " 'Google',\n",
       " 'is',\n",
       " 'Alphabet',\n",
       " \"'s\",\n",
       " 'leading',\n",
       " 'subsidiary',\n",
       " 'and',\n",
       " 'will',\n",
       " 'continue',\n",
       " 'to',\n",
       " 'be',\n",
       " 'the',\n",
       " 'umbrella',\n",
       " 'company',\n",
       " 'for',\n",
       " 'Alphabet',\n",
       " \"'s\",\n",
       " 'Internet',\n",
       " 'interests',\n",
       " '.',\n",
       " 'Sundar',\n",
       " 'Pichai',\n",
       " 'was',\n",
       " 'appointed',\n",
       " 'CEO',\n",
       " 'of',\n",
       " 'Google',\n",
       " ',',\n",
       " 'replacing',\n",
       " 'Larry',\n",
       " 'Page',\n",
       " ',',\n",
       " 'who',\n",
       " 'became',\n",
       " 'the',\n",
       " 'CEO',\n",
       " 'of',\n",
       " 'Alphabet',\n",
       " '.',\n",
       " 'In',\n",
       " '2021',\n",
       " ',',\n",
       " 'the',\n",
       " 'Alphabet',\n",
       " 'Workers',\n",
       " 'Union',\n",
       " 'was',\n",
       " 'founded',\n",
       " ',',\n",
       " 'mainly',\n",
       " 'composed',\n",
       " 'of',\n",
       " 'Google',\n",
       " 'employees',\n",
       " '.']"
      ]
     },
     "execution_count": 13,
     "metadata": {},
     "output_type": "execute_result"
    }
   ],
   "source": [
    "Google_tokens = word_tokenize(Google)\n",
    "Google_tokens"
   ]
  },
  {
   "cell_type": "code",
   "execution_count": 14,
   "metadata": {},
   "outputs": [
    {
     "data": {
      "text/plain": [
       "249"
      ]
     },
     "execution_count": 14,
     "metadata": {},
     "output_type": "execute_result"
    }
   ],
   "source": [
    "len(Google_tokens)"
   ]
  },
  {
   "cell_type": "code",
   "execution_count": 15,
   "metadata": {},
   "outputs": [],
   "source": [
    "from nltk.probability import FreqDist\n",
    "fdist = FreqDist()"
   ]
  },
  {
   "cell_type": "code",
   "execution_count": 16,
   "metadata": {},
   "outputs": [
    {
     "data": {
      "text/plain": [
       "FreqDist({',': 20, '.': 10, 'google': 9, 'in': 8, 'and': 7, 'the': 7, 'of': 6, 'alphabet': 5, '[': 4, ']': 4, ...})"
      ]
     },
     "execution_count": 16,
     "metadata": {},
     "output_type": "execute_result"
    }
   ],
   "source": [
    "for words in Google_tokens:\n",
    "    fdist[words.lower()]+=1\n",
    "fdist"
   ]
  },
  {
   "cell_type": "code",
   "execution_count": 17,
   "metadata": {},
   "outputs": [
    {
     "data": {
      "text/plain": [
       "146"
      ]
     },
     "execution_count": 17,
     "metadata": {},
     "output_type": "execute_result"
    }
   ],
   "source": [
    "len(fdist)"
   ]
  },
  {
   "cell_type": "code",
   "execution_count": 18,
   "metadata": {},
   "outputs": [
    {
     "data": {
      "text/plain": [
       "9"
      ]
     },
     "execution_count": 18,
     "metadata": {},
     "output_type": "execute_result"
    }
   ],
   "source": [
    "fdist[\"google\"]"
   ]
  },
  {
   "cell_type": "code",
   "execution_count": 19,
   "metadata": {},
   "outputs": [
    {
     "data": {
      "text/plain": [
       "[(',', 20),\n",
       " ('.', 10),\n",
       " ('google', 9),\n",
       " ('in', 8),\n",
       " ('and', 7),\n",
       " ('the', 7),\n",
       " ('of', 6),\n",
       " ('alphabet', 5),\n",
       " ('[', 4),\n",
       " (']', 4)]"
      ]
     },
     "execution_count": 19,
     "metadata": {},
     "output_type": "execute_result"
    }
   ],
   "source": [
    "fdist_top10=fdist.most_common(10)\n",
    "fdist_top10"
   ]
  },
  {
   "cell_type": "code",
   "execution_count": 20,
   "metadata": {},
   "outputs": [
    {
     "data": {
      "text/plain": [
       "' Google LLC is an American multinational technology company that specializes in Internet-related services and products, which include online advertising technologies, a search engine, cloud computing, software, and hardware. It is considered one of the Big Five technology companies in the U.S. information technology industry, alongside Amazon, Facebook, Apple, and Microsoft.[9][10][11]'"
      ]
     },
     "execution_count": 20,
     "metadata": {},
     "output_type": "execute_result"
    }
   ],
   "source": [
    "from nltk.tokenize import blankline_tokenize\n",
    "Google_Blank=blankline_tokenize(Google)\n",
    "len(Google_Blank)\n",
    "Google_Blank[0]"
   ]
  },
  {
   "cell_type": "code",
   "execution_count": 21,
   "metadata": {},
   "outputs": [],
   "source": [
    "from nltk.util import bigrams, trigrams, ngrams"
   ]
  },
  {
   "cell_type": "code",
   "execution_count": 22,
   "metadata": {},
   "outputs": [
    {
     "data": {
      "text/plain": [
       "['Google',\n",
       " 'LLC',\n",
       " 'is',\n",
       " 'an',\n",
       " 'American',\n",
       " 'multinational',\n",
       " 'technology',\n",
       " 'company',\n",
       " 'that',\n",
       " 'specializes',\n",
       " 'in',\n",
       " 'Internet-related',\n",
       " 'services',\n",
       " 'and',\n",
       " 'products',\n",
       " ',',\n",
       " 'which',\n",
       " 'include',\n",
       " 'online',\n",
       " 'advertising',\n",
       " 'technologies',\n",
       " ',',\n",
       " 'a',\n",
       " 'search',\n",
       " 'engine',\n",
       " ',',\n",
       " 'cloud',\n",
       " 'computing',\n",
       " ',',\n",
       " 'software',\n",
       " ',',\n",
       " 'and',\n",
       " 'hardware',\n",
       " '.']"
      ]
     },
     "execution_count": 22,
     "metadata": {},
     "output_type": "execute_result"
    }
   ],
   "source": [
    "string = \"Google LLC is an American multinational technology company that specializes in Internet-related services and products, which include online advertising technologies, a search engine, cloud computing, software, and hardware.\"\n",
    "sents_tokens = nltk.word_tokenize(string)\n",
    "sents_tokens"
   ]
  },
  {
   "cell_type": "code",
   "execution_count": 23,
   "metadata": {},
   "outputs": [
    {
     "data": {
      "text/plain": [
       "[('Google', 'LLC', 'is'),\n",
       " ('LLC', 'is', 'an'),\n",
       " ('is', 'an', 'American'),\n",
       " ('an', 'American', 'multinational'),\n",
       " ('American', 'multinational', 'technology'),\n",
       " ('multinational', 'technology', 'company'),\n",
       " ('technology', 'company', 'that'),\n",
       " ('company', 'that', 'specializes'),\n",
       " ('that', 'specializes', 'in'),\n",
       " ('specializes', 'in', 'Internet-related'),\n",
       " ('in', 'Internet-related', 'services'),\n",
       " ('Internet-related', 'services', 'and'),\n",
       " ('services', 'and', 'products'),\n",
       " ('and', 'products', ','),\n",
       " ('products', ',', 'which'),\n",
       " (',', 'which', 'include'),\n",
       " ('which', 'include', 'online'),\n",
       " ('include', 'online', 'advertising'),\n",
       " ('online', 'advertising', 'technologies'),\n",
       " ('advertising', 'technologies', ','),\n",
       " ('technologies', ',', 'a'),\n",
       " (',', 'a', 'search'),\n",
       " ('a', 'search', 'engine'),\n",
       " ('search', 'engine', ','),\n",
       " ('engine', ',', 'cloud'),\n",
       " (',', 'cloud', 'computing'),\n",
       " ('cloud', 'computing', ','),\n",
       " ('computing', ',', 'software'),\n",
       " (',', 'software', ','),\n",
       " ('software', ',', 'and'),\n",
       " (',', 'and', 'hardware'),\n",
       " ('and', 'hardware', '.')]"
      ]
     },
     "execution_count": 23,
     "metadata": {},
     "output_type": "execute_result"
    }
   ],
   "source": [
    "sents_bigram = list(nltk.bigrams(sents_tokens))\n",
    "sents_bigram\n",
    "sents_trigram = list(nltk.trigrams(sents_tokens))\n",
    "sents_trigram"
   ]
  },
  {
   "cell_type": "code",
   "execution_count": 24,
   "metadata": {},
   "outputs": [
    {
     "data": {
      "text/plain": [
       "[('Google',\n",
       "  'LLC',\n",
       "  'is',\n",
       "  'an',\n",
       "  'American',\n",
       "  'multinational',\n",
       "  'technology',\n",
       "  'company'),\n",
       " ('LLC',\n",
       "  'is',\n",
       "  'an',\n",
       "  'American',\n",
       "  'multinational',\n",
       "  'technology',\n",
       "  'company',\n",
       "  'that'),\n",
       " ('is',\n",
       "  'an',\n",
       "  'American',\n",
       "  'multinational',\n",
       "  'technology',\n",
       "  'company',\n",
       "  'that',\n",
       "  'specializes'),\n",
       " ('an',\n",
       "  'American',\n",
       "  'multinational',\n",
       "  'technology',\n",
       "  'company',\n",
       "  'that',\n",
       "  'specializes',\n",
       "  'in'),\n",
       " ('American',\n",
       "  'multinational',\n",
       "  'technology',\n",
       "  'company',\n",
       "  'that',\n",
       "  'specializes',\n",
       "  'in',\n",
       "  'Internet-related'),\n",
       " ('multinational',\n",
       "  'technology',\n",
       "  'company',\n",
       "  'that',\n",
       "  'specializes',\n",
       "  'in',\n",
       "  'Internet-related',\n",
       "  'services'),\n",
       " ('technology',\n",
       "  'company',\n",
       "  'that',\n",
       "  'specializes',\n",
       "  'in',\n",
       "  'Internet-related',\n",
       "  'services',\n",
       "  'and'),\n",
       " ('company',\n",
       "  'that',\n",
       "  'specializes',\n",
       "  'in',\n",
       "  'Internet-related',\n",
       "  'services',\n",
       "  'and',\n",
       "  'products'),\n",
       " ('that',\n",
       "  'specializes',\n",
       "  'in',\n",
       "  'Internet-related',\n",
       "  'services',\n",
       "  'and',\n",
       "  'products',\n",
       "  ','),\n",
       " ('specializes',\n",
       "  'in',\n",
       "  'Internet-related',\n",
       "  'services',\n",
       "  'and',\n",
       "  'products',\n",
       "  ',',\n",
       "  'which'),\n",
       " ('in',\n",
       "  'Internet-related',\n",
       "  'services',\n",
       "  'and',\n",
       "  'products',\n",
       "  ',',\n",
       "  'which',\n",
       "  'include'),\n",
       " ('Internet-related',\n",
       "  'services',\n",
       "  'and',\n",
       "  'products',\n",
       "  ',',\n",
       "  'which',\n",
       "  'include',\n",
       "  'online'),\n",
       " ('services',\n",
       "  'and',\n",
       "  'products',\n",
       "  ',',\n",
       "  'which',\n",
       "  'include',\n",
       "  'online',\n",
       "  'advertising'),\n",
       " ('and',\n",
       "  'products',\n",
       "  ',',\n",
       "  'which',\n",
       "  'include',\n",
       "  'online',\n",
       "  'advertising',\n",
       "  'technologies'),\n",
       " ('products',\n",
       "  ',',\n",
       "  'which',\n",
       "  'include',\n",
       "  'online',\n",
       "  'advertising',\n",
       "  'technologies',\n",
       "  ','),\n",
       " (',', 'which', 'include', 'online', 'advertising', 'technologies', ',', 'a'),\n",
       " ('which',\n",
       "  'include',\n",
       "  'online',\n",
       "  'advertising',\n",
       "  'technologies',\n",
       "  ',',\n",
       "  'a',\n",
       "  'search'),\n",
       " ('include',\n",
       "  'online',\n",
       "  'advertising',\n",
       "  'technologies',\n",
       "  ',',\n",
       "  'a',\n",
       "  'search',\n",
       "  'engine'),\n",
       " ('online', 'advertising', 'technologies', ',', 'a', 'search', 'engine', ','),\n",
       " ('advertising', 'technologies', ',', 'a', 'search', 'engine', ',', 'cloud'),\n",
       " ('technologies', ',', 'a', 'search', 'engine', ',', 'cloud', 'computing'),\n",
       " (',', 'a', 'search', 'engine', ',', 'cloud', 'computing', ','),\n",
       " ('a', 'search', 'engine', ',', 'cloud', 'computing', ',', 'software'),\n",
       " ('search', 'engine', ',', 'cloud', 'computing', ',', 'software', ','),\n",
       " ('engine', ',', 'cloud', 'computing', ',', 'software', ',', 'and'),\n",
       " (',', 'cloud', 'computing', ',', 'software', ',', 'and', 'hardware'),\n",
       " ('cloud', 'computing', ',', 'software', ',', 'and', 'hardware', '.')]"
      ]
     },
     "execution_count": 24,
     "metadata": {},
     "output_type": "execute_result"
    }
   ],
   "source": [
    "sents_ngram = list(nltk.ngrams(sents_tokens,8))\n",
    "sents_ngram"
   ]
  },
  {
   "cell_type": "code",
   "execution_count": 25,
   "metadata": {},
   "outputs": [],
   "source": [
    "words_to_stem = ['having',\"haven't\",\"given\",\"gave\"]"
   ]
  },
  {
   "cell_type": "markdown",
   "metadata": {},
   "source": [
    "### STEMMING\n",
    "Stemming is the process of reducing inflection in words to their root forms such as mapping a group of words to the same stem even if the stem itself is not a valid word in the language. "
   ]
  },
  {
   "cell_type": "code",
   "execution_count": 26,
   "metadata": {},
   "outputs": [],
   "source": [
    "from nltk.stem import PorterStemmer\n",
    "pst=PorterStemmer()"
   ]
  },
  {
   "cell_type": "code",
   "execution_count": 27,
   "metadata": {},
   "outputs": [],
   "source": [
    "from nltk.stem import SnowballStemmer\n",
    "snb = SnowballStemmer('english')"
   ]
  },
  {
   "cell_type": "markdown",
   "metadata": {},
   "source": [
    "LancasterStemmer (Paice-Husk stemmer) "
   ]
  },
  {
   "cell_type": "code",
   "execution_count": 28,
   "metadata": {},
   "outputs": [],
   "source": [
    "from nltk.stem import LancasterStemmer\n",
    "lst = LancasterStemmer()"
   ]
  },
  {
   "cell_type": "code",
   "execution_count": 29,
   "metadata": {
    "scrolled": true
   },
   "outputs": [
    {
     "name": "stdout",
     "output_type": "stream",
     "text": [
      "W̲o̲r̲d             P̲o̲r̲t̲e̲r̲ ̲S̲t̲e̲m̲m̲e̲rl̲a̲n̲c̲a̲s̲t̲e̲r̲ ̲S̲t̲e̲m̲m̲e̲rs̲n̲o̲w̲b̲a̲l̲l̲ ̲S̲t̲e̲m̲m̲e̲r\n",
      "having              hav                 have                have                \n",
      "haven't             haven't             haven't             haven't             \n",
      "given               giv                 given               given               \n",
      "gave                gav                 gave                gave                \n"
     ]
    }
   ],
   "source": [
    "print(\"{0:20}{1:20}{2:20}{3:20}\".format('\\u0332'.join(\"Word\"),'\\u0332'.join(\"Porter Stemmer\"),'\\u0332'.join(\"lancaster Stemmer\"),'\\u0332'.join(\"snowball Stemmer\")))\n",
    "for words in words_to_stem:\n",
    "    print(\"{0:20}{1:20}{2:20}{3:20}\".format(words,lst.stem(words),pst.stem(words),snb.stem(words)))\n",
    "#     print(\"lancaster_stemming\" +\" \"+ \"=\" +\" \"+ words + \":\" + lst.stem(words))\n",
    "#     print(\"porter_stemming\" +\" \" +\"=\" +\" \"+ words + \":\" + pst.stem(words))\n",
    "#     print(\"snow_ball_stemming\" +\" \" +\"=\" +\" \"+ words + \":\" + snb.stem(words))\n",
    "    "
   ]
  },
  {
   "cell_type": "markdown",
   "metadata": {},
   "source": [
    "lemmatization and stemming is that both generate the root form of the inflected words. \n",
    "\n",
    "In grammar, Inflection is expression of one of more grammatical categories with prefix, suffix or infix, or a vowel change to show the difference in tense, case, voice, person, aspect, number, gender and mood. \n",
    "\n",
    "stem might not be an actual word whereas, lemma is an actual language word called lemma. Python NLTK provides WordNet Lemmatizer that uses the WordNet Database to lookup lemmas of words where as stemming follows an algorithm with steps to perform on the words which makes it faster. "
   ]
  },
  {
   "cell_type": "code",
   "execution_count": 30,
   "metadata": {},
   "outputs": [],
   "source": [
    "from nltk.stem import wordnet\n",
    "from nltk.stem import WordNetLemmatizer\n",
    "word_lemmatizer=WordNetLemmatizer()"
   ]
  },
  {
   "cell_type": "code",
   "execution_count": 31,
   "metadata": {},
   "outputs": [
    {
     "name": "stdout",
     "output_type": "stream",
     "text": [
      "w̲o̲r̲d̲s           L̲e̲m̲m̲a̲t̲i̲z̲e̲d̲_̲w̲o̲r̲d\n",
      "having              having              \n",
      "haven't             haven't             \n",
      "given               given               \n",
      "gave                gave                \n"
     ]
    }
   ],
   "source": [
    "print(\"{0:20}{1:20}\".format('\\u0332'.join(\"words\"),'\\u0332'.join(\"Lemmatized_word\")))\n",
    "for words in words_to_stem:\n",
    "    print(\"{0:20}{1:20}\".format(words,word_lemmatizer.lemmatize(words)))"
   ]
  },
  {
   "cell_type": "code",
   "execution_count": 32,
   "metadata": {},
   "outputs": [],
   "source": [
    "from nltk.corpus import stopwords"
   ]
  },
  {
   "cell_type": "code",
   "execution_count": 33,
   "metadata": {},
   "outputs": [
    {
     "data": {
      "text/plain": [
       "179"
      ]
     },
     "execution_count": 33,
     "metadata": {},
     "output_type": "execute_result"
    }
   ],
   "source": [
    "len(stopwords.words('english'))"
   ]
  },
  {
   "cell_type": "code",
   "execution_count": 34,
   "metadata": {},
   "outputs": [
    {
     "data": {
      "text/plain": [
       "[(',', 20),\n",
       " ('.', 10),\n",
       " ('google', 9),\n",
       " ('in', 8),\n",
       " ('and', 7),\n",
       " ('the', 7),\n",
       " ('of', 6),\n",
       " ('alphabet', 5),\n",
       " ('[', 4),\n",
       " (']', 4)]"
      ]
     },
     "execution_count": 34,
     "metadata": {},
     "output_type": "execute_result"
    }
   ],
   "source": [
    "fdist_top10"
   ]
  },
  {
   "cell_type": "code",
   "execution_count": 35,
   "metadata": {},
   "outputs": [],
   "source": [
    "import re\n",
    "puntuation=re.compile(r'[-.?!,:;()_|;0-9]')"
   ]
  },
  {
   "cell_type": "code",
   "execution_count": 36,
   "metadata": {},
   "outputs": [],
   "source": [
    "punct_rem=[]\n",
    "for words in Google_tokens:\n",
    "    word=puntuation.sub(\"\",words)\n",
    "    if len(word)>0:\n",
    "        punct_rem.append(word)"
   ]
  },
  {
   "cell_type": "code",
   "execution_count": 37,
   "metadata": {},
   "outputs": [
    {
     "data": {
      "text/plain": [
       "(202, 249)"
      ]
     },
     "execution_count": 37,
     "metadata": {},
     "output_type": "execute_result"
    }
   ],
   "source": [
    "len(punct_rem),len(Google_tokens)"
   ]
  },
  {
   "cell_type": "code",
   "execution_count": 38,
   "metadata": {},
   "outputs": [],
   "source": [
    "sent = \"Timothy is a natural when it comes to drawing\"\n",
    "sent1 = \"John is eating a delicious cake\"\n",
    "sent_tokens = word_tokenize(sent)\n",
    "sent1_tokens = word_tokenize(sent1)"
   ]
  },
  {
   "cell_type": "code",
   "execution_count": 39,
   "metadata": {
    "scrolled": true
   },
   "outputs": [
    {
     "name": "stdout",
     "output_type": "stream",
     "text": [
      "[('Timothy', 'NN')]\n",
      "[('is', 'VBZ')]\n",
      "[('a', 'DT')]\n",
      "[('natural', 'JJ')]\n",
      "[('when', 'WRB')]\n",
      "[('it', 'PRP')]\n",
      "[('comes', 'VBZ')]\n",
      "[('to', 'TO')]\n",
      "[('drawing', 'VBG')]\n",
      "[('John', 'NNP')]\n",
      "[('is', 'VBZ')]\n",
      "[('eating', 'VBG')]\n",
      "[('a', 'DT')]\n",
      "[('delicious', 'JJ')]\n",
      "[('cake', 'NN')]\n"
     ]
    }
   ],
   "source": [
    "for token in sent_tokens:\n",
    "    print(nltk.pos_tag([token]))\n",
    "for token in sent1_tokens:\n",
    "    print(nltk.pos_tag([token]))"
   ]
  },
  {
   "cell_type": "code",
   "execution_count": 40,
   "metadata": {},
   "outputs": [],
   "source": [
    "from nltk import ne_chunk\n",
    "NER_sent = \"The Tamilnadu chief minister stays in Chennai \""
   ]
  },
  {
   "cell_type": "code",
   "execution_count": 41,
   "metadata": {},
   "outputs": [],
   "source": [
    "NER_tokens = word_tokenize(NER_sent)\n",
    "NER_tags = nltk.pos_tag(NER_tokens)"
   ]
  },
  {
   "cell_type": "code",
   "execution_count": 42,
   "metadata": {},
   "outputs": [
    {
     "name": "stdout",
     "output_type": "stream",
     "text": [
      "(S\n",
      "  The/DT\n",
      "  (ORGANIZATION Tamilnadu/NNP)\n",
      "  chief/JJ\n",
      "  minister/NN\n",
      "  stays/NNS\n",
      "  in/IN\n",
      "  (GPE Chennai/NNP))\n"
     ]
    }
   ],
   "source": [
    "NER_NER = ne_chunk(NER_tags)\n",
    "print(NER_NER)"
   ]
  },
  {
   "cell_type": "code",
   "execution_count": 45,
   "metadata": {},
   "outputs": [
    {
     "data": {
      "text/plain": [
       "[('the', 'DT'),\n",
       " ('big', 'JJ'),\n",
       " ('cat', 'NN'),\n",
       " ('are', 'VBP'),\n",
       " ('the', 'DT'),\n",
       " ('little', 'JJ'),\n",
       " ('mouse', 'NN'),\n",
       " ('who', 'WP'),\n",
       " ('was', 'VBD'),\n",
       " ('after', 'IN'),\n",
       " ('fresh', 'JJ'),\n",
       " ('cheese', 'NN')]"
      ]
     },
     "execution_count": 45,
     "metadata": {},
     "output_type": "execute_result"
    }
   ],
   "source": [
    "new = \"the big cat are the little mouse who was after fresh cheese\"\n",
    "new_tokens = nltk.pos_tag(word_tokenize(new))\n",
    "new_tokens"
   ]
  },
  {
   "cell_type": "code",
   "execution_count": 50,
   "metadata": {},
   "outputs": [],
   "source": [
    "grammar_np = r\"NP: {<DT>?<JJ>*<NN>}\"\n"
   ]
  },
  {
   "cell_type": "code",
   "execution_count": 51,
   "metadata": {},
   "outputs": [],
   "source": [
    "chunk_parser = nltk.RegexpParser(grammar_np)"
   ]
  },
  {
   "cell_type": "code",
   "execution_count": null,
   "metadata": {},
   "outputs": [],
   "source": [
    "# chunk_result =  chunk_parser.parse(new_tokens)\n",
    "# chunk_result"
   ]
  },
  {
   "cell_type": "code",
   "execution_count": null,
   "metadata": {},
   "outputs": [],
   "source": []
  }
 ],
 "metadata": {
  "kernelspec": {
   "display_name": ".venv",
   "language": "python",
   "name": ".venv"
  },
  "language_info": {
   "codemirror_mode": {
    "name": "ipython",
    "version": 3
   },
   "file_extension": ".py",
   "mimetype": "text/x-python",
   "name": "python",
   "nbconvert_exporter": "python",
   "pygments_lexer": "ipython3",
   "version": "3.8.7"
  }
 },
 "nbformat": 4,
 "nbformat_minor": 4
}
